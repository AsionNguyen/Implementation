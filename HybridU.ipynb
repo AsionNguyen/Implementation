{
 "cells": [
  {
   "cell_type": "code",
   "execution_count": 5,
   "id": "2cec1459",
   "metadata": {},
   "outputs": [
    {
     "data": {
      "text/plain": [
       "'Test\\n    1) matrix of polynomials\\n'"
      ]
     },
     "execution_count": 5,
     "metadata": {},
     "output_type": "execute_result"
    }
   ],
   "source": [
    "'''Test\n",
    "    1) matrix of polynomials\n",
    "'''"
   ]
  },
  {
   "cell_type": "code",
   "execution_count": 6,
   "id": "652f0571",
   "metadata": {},
   "outputs": [],
   "source": [
    "from sage.stats.distributions.discrete_gaussian_integer import DiscreteGaussianDistributionIntegerSampler\n",
    "\n",
    "import time\n",
    "import numpy as np\n",
    "import itertools\n",
    "from multiprocessing import cpu_count\n",
    "from datetime import datetime\n",
    "\n",
    "ncpus=cpu_count()\n",
    "\n",
    "params = {  512: {'mK': 1024, 'thr': 2.04, 'q': 12289},\n",
    "            648: {'mK': 1944, 'thr': 2.13, 'q': 3889 },\n",
    "            768: {'mK': 2304, 'thr': 2.20, 'q': 18433},\n",
    "            864: {'mK': 2592, 'thr': 2.25, 'q': 10369},\n",
    "            972: {'mK': 2916, 'thr': 2.30, 'q': 17497},\n",
    "           1024: {'mK': 2048, 'thr': 2.33, 'q': 12289} }\n",
    "\n",
    "param = params[512]\n",
    "\n",
    "mK  = param['mK']\n",
    "thr0= param['thr']\n",
    "q   = param['q']\n",
    "\n",
    "d = euler_phi(mK)\n",
    "zmstar = [a for a in range(mK) if gcd(a,mK)==1]\n",
    "K.<z> = CyclotomicField(mK) # WARNING: degree(K) = d\n",
    "I = identity_matrix(K,2,2)"
   ]
  },
  {
   "cell_type": "code",
   "execution_count": 7,
   "id": "e31b3dcf",
   "metadata": {},
   "outputs": [
    {
     "data": {
      "text/plain": [
       "(\n",
       "[z]  [      1       0]  [        z]\n",
       "[0], [2*z + 1       1], [2*z^2 + z]\n",
       ")"
      ]
     },
     "execution_count": 7,
     "metadata": {},
     "output_type": "execute_result"
    }
   ],
   "source": [
    "poly_zero=0*z+0\n",
    "poly_one=0*z+1\n",
    "\n",
    "u = 2*z+1\n",
    "U = matrix([[1,0],[u,1]])\n",
    "\n",
    "#z1=K.random_element()\n",
    "#z2=K.random_element()\n",
    "Z = matrix([[z],[0]])\n",
    "Z,U,U*Z"
   ]
  },
  {
   "cell_type": "code",
   "execution_count": 8,
   "id": "cc18a1f4",
   "metadata": {},
   "outputs": [
    {
     "data": {
      "text/plain": [
       "(2, 2)"
      ]
     },
     "execution_count": 8,
     "metadata": {},
     "output_type": "execute_result"
    }
   ],
   "source": [
    "U.dimensions()"
   ]
  },
  {
   "cell_type": "code",
   "execution_count": 9,
   "id": "fcd4178f",
   "metadata": {},
   "outputs": [
    {
     "data": {
      "text/plain": [
       "(2, 2*z)"
      ]
     },
     "execution_count": 9,
     "metadata": {},
     "output_type": "execute_result"
    }
   ],
   "source": [
    "U[0,0]+1, Z[0,0]+z"
   ]
  },
  {
   "cell_type": "markdown",
   "id": "941e8a3a",
   "metadata": {},
   "source": [
    "# Notation\n",
    "For $a\\in \\mathbb{R}$, note  $[a]_p=\\frac{\\lfloor aq \\rceil}{q}\\in (1/q)\\mathbb{Z}$\n",
    "# Integral Matrix Gram Root (`IntGram`)\n",
    "**Input**: Matrix $M\\in\\mathcal{R}^{2\\times 2}$.\n",
    "\n",
    "**Output**: Matrix $A\\in \\mathcal{R}^{2\\times m}$ such that $M=AA^t$.\n",
    "\n",
    "# Offline Sampler (`OffSampler`)\n",
    "Precompute integer $r>\\eta_\\epsilon (\\mathcal{R}^2)$ such that $Lr\\geq \\eta_\\epsilon(\\Lambda(A)^{\\perp})$.\n",
    "$A$ is $2\\times m$ matrix.\n",
    "\n",
    "**Input**: integer $p>0$, matrix $A\\in \\mathcal{R}^{2\\times m}$ ($A$ outputs from `IntGram`).\n",
    "\n",
    "**Output**: $t \\in \\mathcal{R}^2$ follows $D_{\\mathcal{R}^2,r^2\\Sigma}$ with $\\Sigma = \\frac{1}{p^2}AA^t+I$\n",
    "#  Integer arithmetic ring Gaussian sampler (`IntGaussSampler`)\n",
    "Choose $r,s$. Precompute $\\hat{B}$ such that $\\hat{B}U_{\\hat{u}}=B=\\tilde{B}U_{u}$ with $\\hat{u}=[u]_p \\in \\frac{1}{p}\\mathcal{R}$.\n",
    "\n",
    "**Input**: Matrix $\\hat{B}\\in \\mathcal{R}^{2\\times 2}$, vector $c\\in \\mathcal{R}^2$ and $r,s$.\n",
    "\n",
    "**Output**: $z\\in \\mathcal{R}^2$ follows $D_{\\mathcal{L}(\\mathcal{R}^2),c,rs}$.\n"
   ]
  },
  {
   "cell_type": "code",
   "execution_count": 10,
   "id": "4eb3f632",
   "metadata": {},
   "outputs": [],
   "source": [
    "def RSamplerZ(c1, r, verbose=False):\n",
    "    #print(c1)\n",
    "    center = c1.list()\n",
    "    l=[]\n",
    "    for c in center:\n",
    "        D = DiscreteGaussianDistributionIntegerSampler(c = c, sigma = r)\n",
    "        l.append(D())\n",
    "    if verbose:\n",
    "        print('---[ RingSamplerZ ]---')\n",
    "        print('Center vector:')\n",
    "        print(center)\n",
    "        print('Sampler:')\n",
    "        print(l)\n",
    "    return K(l)\n",
    "\n",
    "def HybridU(c1,c2, u, r, verbose=False):\n",
    "    '''c1,c2,z2,u : polynomial\n",
    "    '''\n",
    "    U = matrix([[1,u],[0,1]])\n",
    "    z2 = RSamplerZ(c2, r)\n",
    "    temp = c1-z2*u\n",
    "    z1 = RSamplerZ(temp, r)\n",
    "    res = U*matrix([[z1],[z2]])\n",
    "    \n",
    "    if verbose:\n",
    "        print('---[ HybridU ]---')\n",
    "        print('Matrix U : ')\n",
    "        print(U)\n",
    "        print('Vector c : ')\n",
    "        print(matrix([c1.list(),c2.list()]))\n",
    "        print('Sample :')\n",
    "        print(res[0,0].list())\n",
    "        print(res[1,0].list())\n",
    "        \n",
    "    return res\n",
    "\n",
    "def IntGram(M):\n",
    "    '''Find A st : AAt = M\n",
    "       A : 2 x m (general case: nx9n)\n",
    "       use Cholesky decomposition\n",
    "       ? coeffs are rational or real, if real : problem for round_p => sol : define KxR (cyclotomic field R)\n",
    "    '''\n",
    "    \n",
    "    '''? find A'''\n",
    "    \n",
    "    return A\n",
    "\n",
    "def GS(B):\n",
    "    \n",
    "    #return B_GS, U \n",
    "    return U\n",
    "\n",
    "def precompute(B, p, r, s, verbose = False):\n",
    "    '''? p is important for existence of A as integral gram root of M\n",
    "       ? L needs to be chosen \n",
    "    '''\n",
    "    #B_GS, U = GS(B)\n",
    "    \n",
    "    if verbose:\n",
    "        return random_matrix(K,2,2), K.random_element(), random_matrix(K,2, m=10), 2*r\n",
    "    else:\n",
    "        U = GS(B)\n",
    "        u_hat = round_p(f = U[0,1], p = p)\n",
    "\n",
    "        B_hat = matrix([[B[0,0], B[0,1]-B[0,0]*u_hat], [B[1,0], B[1,1]-B[1,0]*u_hat]])\n",
    "\n",
    "        Sigma_p = s*s*I - B_hat*(B_hat.transpose())\n",
    "        M = p*p*(Sigma_p - I)\n",
    "\n",
    "        A = IntGram(M)\n",
    "        L = 2*r\n",
    "        return B_hat, u_hat, A, L\n",
    "\n",
    "def OffSampler(p, A, r, L):\n",
    "    '''r > smoothing(R^2)\n",
    "       Lr > smoothing(...)\n",
    "       A : 2 x m\n",
    "    '''\n",
    "    \n",
    "    #Sigma = RDL(1/(p*p)*A*A.transpose()+I)\n",
    "    '''? need RDL: I prefer staying in Q if possible\n",
    "       ? RDL compatible with matrix\n",
    "    '''\n",
    "    \n",
    "    m = A.ncols()\n",
    "    delta = L*r\n",
    "    D = DiscreteGaussianDistributionIntegerSampler(sigma = delta)\n",
    "    # x : m x 1\n",
    "    x = matrix([D() for _ in range(m)]).transpose()\n",
    "    \n",
    "    # tt : 2 x 1\n",
    "    tt = K(1/(p*L))*A*x\n",
    "    #print(tt)\n",
    "    t = HybridU(c1 = tt[0,0], c2 = tt[1,0], u = 0, r = r, verbose = False)\n",
    "    \n",
    "    return t\n",
    "    \n",
    "    \n",
    "def IntGaussSampler(c, p, B_hat, u_hat, A, r, s ):\n",
    "    '''? B_hat needs to be inversible in R^{2x2} if not use inverse of B_hat in K^{2x2}\n",
    "    '''\n",
    "    #B_hat, u_hat, A, L = precompute(B = B, p = p, r = r, s = s)\n",
    "    t = OffSampler(p = p, A = A, r = r, L = L)\n",
    "    \n",
    "    c_hat = (B_hat.inverse_of_unit())*(c-t)\n",
    "    zz = HybridU(c1 = c_hat[0,0], c2 = c_hat[1,0], u = u_hat, r = r, verbose=False)\n",
    "    \n",
    "    return B_hat*zz\n",
    "\n",
    "def round_p(f, p):\n",
    "    '''f must be in K (coeffs are rational)\n",
    "       \n",
    "    '''\n",
    "    coeffs = f.list()\n",
    "    return K( [round(coeff*p)/p for coeff in coeffs])\n",
    "\n",
    "\n",
    "    \n"
   ]
  },
  {
   "cell_type": "code",
   "execution_count": 30,
   "id": "11f2cc22",
   "metadata": {},
   "outputs": [
    {
     "name": "stdout",
     "output_type": "stream",
     "text": [
      "---[ RingSamplerZ ]---\n",
      "Center vector:\n",
      "[1, 0, 3, 0, 0, 0]\n",
      "Sampler:\n",
      "[1, 0, 4, 0, 0, 1]\n"
     ]
    },
    {
     "data": {
      "text/plain": [
       "z^5 + 4*z^2 + 1"
      ]
     },
     "execution_count": 30,
     "metadata": {},
     "output_type": "execute_result"
    }
   ],
   "source": [
    "'''Test RingSamplerZ\n",
    "'''\n",
    "K.<z> = CyclotomicField(7)\n",
    "RSamplerZ(c1=3*z^2+1,r=0.5, verbose=True)"
   ]
  },
  {
   "cell_type": "code",
   "execution_count": 12,
   "id": "8b08d95e",
   "metadata": {},
   "outputs": [
    {
     "name": "stdout",
     "output_type": "stream",
     "text": [
      "---[ HybridU ]---\n",
      "Matrix U : \n",
      "[      1 z^4 - 1]\n",
      "[      0       1]\n",
      "Vector c : \n",
      "[ 1 -2  0  1  0  0]\n",
      "[-5  0 -1  0  0  0]\n",
      "Sample :\n",
      "[1, -2, 0, 1, 0, 0]\n",
      "[-5, 0, -1, -1, 0, 0]\n"
     ]
    },
    {
     "data": {
      "text/plain": [
       "[ z^3 - 2*z + 1]\n",
       "[-z^3 - z^2 - 5]"
      ]
     },
     "execution_count": 12,
     "metadata": {},
     "output_type": "execute_result"
    }
   ],
   "source": [
    "'''Test HybridU\n",
    "'''\n",
    "K.<z> = CyclotomicField(7)\n",
    "HybridU(c1=z^3-2*z+1,c2=-z^2-5, u=z^4-1, r=0.4, verbose=True)"
   ]
  },
  {
   "cell_type": "code",
   "execution_count": 13,
   "id": "99c07e7d",
   "metadata": {},
   "outputs": [],
   "source": [
    "'''Test IntGaussSampler\n",
    "   not yet: since IntGram not implemented => no A\n",
    "'''\n",
    "K.<z> = CyclotomicField(7)\n",
    "c = random_matrix(K,2,1)\n",
    "B = random_matrix(K,2,2)\n",
    "p = 10\n",
    "r = 0.5\n",
    "s = 1\n",
    "\n",
    "B_hat, u_hat, A, L = precompute(B=B, p=p, r=r, s=s, verbose=True)\n",
    "v=IntGaussSampler(c, p, B_hat, u_hat, A, r, s)"
   ]
  },
  {
   "cell_type": "code",
   "execution_count": 14,
   "id": "f54d3170",
   "metadata": {},
   "outputs": [
    {
     "data": {
      "text/plain": [
       "[-1/2*z^4 - z^3 + z^2 + z - 1/2, -z^4 - z^3 - 2*z^2 - z]"
      ]
     },
     "execution_count": 14,
     "metadata": {},
     "output_type": "execute_result"
    }
   ],
   "source": [
    "c.list()"
   ]
  },
  {
   "cell_type": "code",
   "execution_count": 15,
   "id": "fbaf00f0",
   "metadata": {},
   "outputs": [
    {
     "data": {
      "text/plain": [
       "[5/4*z^5 - 7/4*z^4 - 3/2*z^3 + 15/4*z^2 + 3/2*z - 1,\n",
       " -3*z^5 - 7/2*z^4 - 7/4*z^3 - 21/4*z^2 + 1/2*z - 9/4]"
      ]
     },
     "execution_count": 15,
     "metadata": {},
     "output_type": "execute_result"
    }
   ],
   "source": [
    "v.list()"
   ]
  },
  {
   "cell_type": "code",
   "execution_count": 21,
   "id": "a90476ad",
   "metadata": {},
   "outputs": [
    {
     "data": {
      "text/plain": [
       "1"
      ]
     },
     "execution_count": 21,
     "metadata": {},
     "output_type": "execute_result"
    }
   ],
   "source": [
    "t=vector([i for i in range(2)])\n",
    "t.norm()"
   ]
  },
  {
   "cell_type": "code",
   "execution_count": 24,
   "id": "60062aaa",
   "metadata": {},
   "outputs": [
    {
     "ename": "AttributeError",
     "evalue": "'sage.modules.vector_integer_dense.Vector_integer_dense' object has no attribute 'transpose'",
     "output_type": "error",
     "traceback": [
      "\u001b[0;31m---------------------------------------------------------------------------\u001b[0m",
      "\u001b[0;31mAttributeError\u001b[0m                            Traceback (most recent call last)",
      "\u001b[0;32m/var/folders/37/40t8n66d41b6jldvnttx32c40000gn/T/ipykernel_9310/1748522591.py\u001b[0m in \u001b[0;36m<cell line: 1>\u001b[0;34m()\u001b[0m\n\u001b[0;32m----> 1\u001b[0;31m \u001b[0mt\u001b[0m\u001b[0;34m.\u001b[0m\u001b[0mtranspose\u001b[0m\u001b[0;34m(\u001b[0m\u001b[0;34m)\u001b[0m\u001b[0;34m\u001b[0m\u001b[0;34m\u001b[0m\u001b[0m\n\u001b[0m",
      "\u001b[0;32m~/opt/miniconda3/envs/sage/lib/python3.9/site-packages/sage/structure/element.pyx\u001b[0m in \u001b[0;36msage.structure.element.Element.__getattr__ (build/cythonized/sage/structure/element.c:4826)\u001b[0;34m()\u001b[0m\n\u001b[1;32m    492\u001b[0m             \u001b[0mAttributeError\u001b[0m\u001b[0;34m:\u001b[0m \u001b[0;34m'LeftZeroSemigroup_with_category.element_class'\u001b[0m \u001b[0mobject\u001b[0m \u001b[0mhas\u001b[0m \u001b[0mno\u001b[0m \u001b[0mattribute\u001b[0m \u001b[0;34m'blah_blah'\u001b[0m\u001b[0;34m\u001b[0m\u001b[0;34m\u001b[0m\u001b[0m\n\u001b[1;32m    493\u001b[0m         \"\"\"\n\u001b[0;32m--> 494\u001b[0;31m         \u001b[0;32mreturn\u001b[0m \u001b[0mself\u001b[0m\u001b[0;34m.\u001b[0m\u001b[0mgetattr_from_category\u001b[0m\u001b[0;34m(\u001b[0m\u001b[0mname\u001b[0m\u001b[0;34m)\u001b[0m\u001b[0;34m\u001b[0m\u001b[0;34m\u001b[0m\u001b[0m\n\u001b[0m\u001b[1;32m    495\u001b[0m \u001b[0;34m\u001b[0m\u001b[0m\n\u001b[1;32m    496\u001b[0m     \u001b[0mcdef\u001b[0m \u001b[0mgetattr_from_category\u001b[0m\u001b[0;34m(\u001b[0m\u001b[0mself\u001b[0m\u001b[0;34m,\u001b[0m \u001b[0mname\u001b[0m\u001b[0;34m)\u001b[0m\u001b[0;34m:\u001b[0m\u001b[0;34m\u001b[0m\u001b[0;34m\u001b[0m\u001b[0m\n",
      "\u001b[0;32m~/opt/miniconda3/envs/sage/lib/python3.9/site-packages/sage/structure/element.pyx\u001b[0m in \u001b[0;36msage.structure.element.Element.getattr_from_category (build/cythonized/sage/structure/element.c:4938)\u001b[0;34m()\u001b[0m\n\u001b[1;32m    505\u001b[0m         \u001b[0;32melse\u001b[0m\u001b[0;34m:\u001b[0m\u001b[0;34m\u001b[0m\u001b[0;34m\u001b[0m\u001b[0m\n\u001b[1;32m    506\u001b[0m             \u001b[0mcls\u001b[0m \u001b[0;34m=\u001b[0m \u001b[0mP\u001b[0m\u001b[0;34m.\u001b[0m\u001b[0m_abstract_element_class\u001b[0m\u001b[0;34m\u001b[0m\u001b[0;34m\u001b[0m\u001b[0m\n\u001b[0;32m--> 507\u001b[0;31m         \u001b[0;32mreturn\u001b[0m \u001b[0mgetattr_from_other_class\u001b[0m\u001b[0;34m(\u001b[0m\u001b[0mself\u001b[0m\u001b[0;34m,\u001b[0m \u001b[0mcls\u001b[0m\u001b[0;34m,\u001b[0m \u001b[0mname\u001b[0m\u001b[0;34m)\u001b[0m\u001b[0;34m\u001b[0m\u001b[0;34m\u001b[0m\u001b[0m\n\u001b[0m\u001b[1;32m    508\u001b[0m \u001b[0;34m\u001b[0m\u001b[0m\n\u001b[1;32m    509\u001b[0m     \u001b[0;32mdef\u001b[0m \u001b[0m__dir__\u001b[0m\u001b[0;34m(\u001b[0m\u001b[0mself\u001b[0m\u001b[0;34m)\u001b[0m\u001b[0;34m:\u001b[0m\u001b[0;34m\u001b[0m\u001b[0;34m\u001b[0m\u001b[0m\n",
      "\u001b[0;32m~/opt/miniconda3/envs/sage/lib/python3.9/site-packages/sage/cpython/getattr.pyx\u001b[0m in \u001b[0;36msage.cpython.getattr.getattr_from_other_class (build/cythonized/sage/cpython/getattr.c:2703)\u001b[0;34m()\u001b[0m\n\u001b[1;32m    359\u001b[0m         \u001b[0mdummy_error_message\u001b[0m\u001b[0;34m.\u001b[0m\u001b[0mcls\u001b[0m \u001b[0;34m=\u001b[0m \u001b[0mtype\u001b[0m\u001b[0;34m(\u001b[0m\u001b[0mself\u001b[0m\u001b[0;34m)\u001b[0m\u001b[0;34m\u001b[0m\u001b[0;34m\u001b[0m\u001b[0m\n\u001b[1;32m    360\u001b[0m         \u001b[0mdummy_error_message\u001b[0m\u001b[0;34m.\u001b[0m\u001b[0mname\u001b[0m \u001b[0;34m=\u001b[0m \u001b[0mname\u001b[0m\u001b[0;34m\u001b[0m\u001b[0;34m\u001b[0m\u001b[0m\n\u001b[0;32m--> 361\u001b[0;31m         \u001b[0;32mraise\u001b[0m \u001b[0mAttributeError\u001b[0m\u001b[0;34m(\u001b[0m\u001b[0mdummy_error_message\u001b[0m\u001b[0;34m)\u001b[0m\u001b[0;34m\u001b[0m\u001b[0;34m\u001b[0m\u001b[0m\n\u001b[0m\u001b[1;32m    362\u001b[0m     \u001b[0mattribute\u001b[0m \u001b[0;34m=\u001b[0m \u001b[0;34m<\u001b[0m\u001b[0mobject\u001b[0m\u001b[0;34m>\u001b[0m\u001b[0mattr\u001b[0m\u001b[0;34m\u001b[0m\u001b[0;34m\u001b[0m\u001b[0m\n\u001b[1;32m    363\u001b[0m     \u001b[0;31m# Check for a descriptor (__get__ in Python)\u001b[0m\u001b[0;34m\u001b[0m\u001b[0;34m\u001b[0m\u001b[0m\n",
      "\u001b[0;31mAttributeError\u001b[0m: 'sage.modules.vector_integer_dense.Vector_integer_dense' object has no attribute 'transpose'"
     ]
    }
   ],
   "source": [
    "t.transpose()"
   ]
  },
  {
   "cell_type": "code",
   "execution_count": 27,
   "id": "5d6e7429",
   "metadata": {},
   "outputs": [
    {
     "data": {
      "text/plain": [
       "[1]\n",
       "[1]\n",
       "[0]"
      ]
     },
     "execution_count": 27,
     "metadata": {},
     "output_type": "execute_result"
    }
   ],
   "source": [
    "m = Matrix([[1, 1, 0]])\n",
    "m.transpose()"
   ]
  },
  {
   "cell_type": "code",
   "execution_count": null,
   "id": "3b0c3345",
   "metadata": {},
   "outputs": [],
   "source": []
  },
  {
   "cell_type": "code",
   "execution_count": null,
   "id": "312cee4b",
   "metadata": {},
   "outputs": [],
   "source": []
  },
  {
   "cell_type": "code",
   "execution_count": null,
   "id": "6aa6f94b",
   "metadata": {},
   "outputs": [],
   "source": []
  },
  {
   "cell_type": "code",
   "execution_count": null,
   "id": "84af0ed6",
   "metadata": {},
   "outputs": [],
   "source": [
    "def RabinShallit(N):\n",
    "    x = [x1,x2,x3,x4]\n",
    "    return x\n",
    "\n",
    "def gadget(g, a)\n",
    "\n",
    "def DiagDomIGD(M,d,b,k):            #d,b,k need conditions, version over Z, not yet over ring # M : nxn\n",
    "    g = vector([b**i for i in range(k)])\n",
    "    x = RabinShallit(d - M[0,0] - g.norm()**2)      #norm needs reconsider\n",
    "    \n",
    "    if n == 1:\n",
    "        return g,x\n",
    "    \n",
    "    C = [gadget(g, M[0,j]) for j in range(1,n)]\n",
    "    \n",
    "    "
   ]
  },
  {
   "cell_type": "code",
   "execution_count": null,
   "id": "8c9b5696",
   "metadata": {},
   "outputs": [],
   "source": []
  },
  {
   "cell_type": "code",
   "execution_count": null,
   "id": "8e6cd09f",
   "metadata": {},
   "outputs": [],
   "source": []
  },
  {
   "cell_type": "code",
   "execution_count": null,
   "id": "8adc7c75",
   "metadata": {},
   "outputs": [],
   "source": []
  },
  {
   "cell_type": "code",
   "execution_count": null,
   "id": "bfe8cc1c",
   "metadata": {},
   "outputs": [],
   "source": []
  },
  {
   "cell_type": "code",
   "execution_count": null,
   "id": "27a764fe",
   "metadata": {},
   "outputs": [],
   "source": []
  },
  {
   "cell_type": "code",
   "execution_count": 265,
   "id": "3d210316",
   "metadata": {},
   "outputs": [
    {
     "data": {
      "text/plain": [
       "[          z^5 - 2*z^3 - z^2 + z - 2      -z^5 + 2*z^4 + z^3 - 2*z^2 + 1]\n",
       "[2*z^5 - 2*z^4 - 1/2*z^3 + z^2 - 1/2    -2*z^5 - z^4 + z^3 - z^2 + z - 1]"
      ]
     },
     "execution_count": 265,
     "metadata": {},
     "output_type": "execute_result"
    }
   ],
   "source": [
    "B = random_matrix(K,2,2)\n",
    "B"
   ]
  },
  {
   "cell_type": "code",
   "execution_count": 309,
   "id": "1a475237",
   "metadata": {},
   "outputs": [
    {
     "data": {
      "text/plain": [
       "[    1.0     1.0     1.0     1.0     1.0]\n",
       "[    1.0     5.0    31.0   121.0   341.0]\n",
       "[    1.0    31.0   341.0  1555.0  4681.0]\n",
       "[    1.0   121.0  1555.0  7381.0 22621.0]\n",
       "[    1.0   341.0  4681.0 22621.0 69905.0]"
      ]
     },
     "execution_count": 309,
     "metadata": {},
     "output_type": "execute_result"
    }
   ],
   "source": [
    "r = matrix(RDF, 5, 5, [ 0,0,0,0,1, 1,1,1,1,1, 16,8,4,2,1, 81,27,9,3,1, 256,64,16,4,1 ])\n",
    "m = r * r.transpose(); m\n"
   ]
  },
  {
   "cell_type": "code",
   "execution_count": 311,
   "id": "3b0d6264",
   "metadata": {},
   "outputs": [
    {
     "data": {
      "text/plain": [
       "[               1.0                0.0                0.0                0.0                0.0]\n",
       "[               1.0                2.0                0.0                0.0                0.0]\n",
       "[               1.0               15.0 10.723805294763608                0.0                0.0]\n",
       "[               1.0               60.0  60.98581445891652  7.792973423707309                0.0]\n",
       "[               1.0              170.0 198.62352415518683  39.36656677955255 1.7230995806796983]"
      ]
     },
     "execution_count": 311,
     "metadata": {},
     "output_type": "execute_result"
    }
   ],
   "source": [
    " L = m.cholesky(); L"
   ]
  },
  {
   "cell_type": "code",
   "execution_count": 315,
   "id": "961ba256",
   "metadata": {},
   "outputs": [
    {
     "data": {
      "text/plain": [
       "(5, 5)"
      ]
     },
     "execution_count": 315,
     "metadata": {},
     "output_type": "execute_result"
    }
   ],
   "source": [
    "L.dimensions()"
   ]
  },
  {
   "cell_type": "markdown",
   "id": "004a5ed7",
   "metadata": {},
   "source": [
    "this Cholesky decomposition is real"
   ]
  },
  {
   "cell_type": "code",
   "execution_count": 312,
   "id": "a074d383",
   "metadata": {},
   "outputs": [
    {
     "data": {
      "text/plain": [
       "Full MatrixSpace of 5 by 5 dense matrices over Real Double Field"
      ]
     },
     "execution_count": 312,
     "metadata": {},
     "output_type": "execute_result"
    }
   ],
   "source": [
    "L.parent()"
   ]
  },
  {
   "cell_type": "code",
   "execution_count": 313,
   "id": "900f28ae",
   "metadata": {},
   "outputs": [
    {
     "data": {
      "text/plain": [
       "[              1.0               1.0               1.0               1.0               1.0]\n",
       "[              1.0               5.0              31.0             121.0             341.0]\n",
       "[              1.0              31.0             341.0            1555.0            4681.0]\n",
       "[              1.0             121.0            1555.0            7381.0           22621.0]\n",
       "[              1.0             341.0            4681.0           22621.0 69904.99999999999]"
      ]
     },
     "execution_count": 313,
     "metadata": {},
     "output_type": "execute_result"
    }
   ],
   "source": [
    "L*L.transpose()"
   ]
  },
  {
   "cell_type": "code",
   "execution_count": 314,
   "id": "b27ff380",
   "metadata": {},
   "outputs": [
    {
     "data": {
      "text/plain": [
       "1.4551915228366852e-11"
      ]
     },
     "execution_count": 314,
     "metadata": {},
     "output_type": "execute_result"
    }
   ],
   "source": [
    "( L*L.transpose() - m ).norm(1) "
   ]
  },
  {
   "cell_type": "code",
   "execution_count": 222,
   "id": "9b92a355",
   "metadata": {},
   "outputs": [
    {
     "data": {
      "text/plain": [
       "[     z^5 - 2*z^4 - 2*z^3 - z^2 + z - 1/2 -2*z^5 + 2*z^4 - z^3 - 2*z^2 - 1/2*z - 1]\n",
       "[     2*z^5 - 2*z^4 - 1/2*z^2 + 2*z - 1/2               -1/2*z^3 - 1/2*z^2 + z - 1]"
      ]
     },
     "execution_count": 222,
     "metadata": {},
     "output_type": "execute_result"
    }
   ],
   "source": [
    "K.<z> = CyclotomicField(7)\n",
    "A = random_matrix(K,2,2)\n",
    "P,L,U = A.LU(pivot='nonzero')\n",
    "A"
   ]
  },
  {
   "cell_type": "code",
   "execution_count": null,
   "id": "b9f0a990",
   "metadata": {},
   "outputs": [],
   "source": []
  },
  {
   "cell_type": "code",
   "execution_count": 223,
   "id": "ec329750",
   "metadata": {},
   "outputs": [
    {
     "data": {
      "text/plain": [
       "1/2"
      ]
     },
     "execution_count": 223,
     "metadata": {},
     "output_type": "execute_result"
    }
   ],
   "source": [
    "1/2"
   ]
  },
  {
   "cell_type": "code",
   "execution_count": 208,
   "id": "59e7b65d",
   "metadata": {},
   "outputs": [
    {
     "data": {
      "text/plain": [
       "(\n",
       "[1 0]   \n",
       "[0 1], 2\n",
       ")"
      ]
     },
     "execution_count": 208,
     "metadata": {},
     "output_type": "execute_result"
    }
   ],
   "source": [
    "P, P.ncols()"
   ]
  },
  {
   "cell_type": "code",
   "execution_count": 200,
   "id": "f7dcb079",
   "metadata": {},
   "outputs": [
    {
     "data": {
      "text/plain": [
       "[                                                                                       1                                                                                        0]\n",
       "[-3160/8387*z^5 - 4656/8387*z^4 + 3044/8387*z^3 + 5840/8387*z^2 + 4276/8387*z - 4448/8387                                                                                        1]"
      ]
     },
     "execution_count": 200,
     "metadata": {},
     "output_type": "execute_result"
    }
   ],
   "source": [
    "L"
   ]
  },
  {
   "cell_type": "code",
   "execution_count": 205,
   "id": "eb9b0c35",
   "metadata": {},
   "outputs": [
    {
     "data": {
      "text/plain": [
       "[                                                                                                       -5*z^5 - 5*z^4 - 2*z^3 - 4*z^2 - 21/2*z - 4                                                     48861/8387*z^5 + 85242/8387*z^4 + 69427/8387*z^3 + 105301/16774*z^2 + 1478/8387*z + 41747/8387]\n",
       "[                                                    48861/8387*z^5 + 85242/8387*z^4 + 69427/8387*z^3 + 105301/16774*z^2 + 1478/8387*z + 41747/8387 -292336564/70341769*z^5 + 1669013024/70341769*z^4 + 1270476665/70341769*z^3 + 2536674232/70341769*z^2 + 1504534224/70341769*z + 583785372/70341769]"
      ]
     },
     "execution_count": 205,
     "metadata": {},
     "output_type": "execute_result"
    }
   ],
   "source": [
    "U*(U.transpose())"
   ]
  },
  {
   "cell_type": "code",
   "execution_count": 221,
   "id": "d36ec714",
   "metadata": {},
   "outputs": [
    {
     "name": "stdout",
     "output_type": "stream",
     "text": [
      "Generating 1 Gaussian samples\n"
     ]
    },
    {
     "data": {
      "text/plain": [
       "(\n",
       "[                         -2*z^5 + z^3 - 1                                -z^3 + z^2                -1/2*z^5 + 2*z^4 - z^3 - 1                             z^4 + 2*z - 1           1/2*z^5 - z^4 + z^3 + 2*z^2 - 2 1/2*z^5 - z^4 + z^3 - 1/2*z^2 - 1/2*z + 1]\n",
       "[                      2*z^5 + z^3 - 2*z^2                 1/2*z^3 - z^2 - 2*z - 1/2             z^5 - z^3 - z^2 - 1/2*z - 1/2             1/2*z^5 + z^4 + z^3 + 2*z - 2    -z^5 + 2*z^4 - 2*z^3 + z^2 + 2*z + 1/2                             z^2 + 2*z - 1],\n",
       "\n",
       "                [    -1/2*z^5 + 5*z^4 + z^3 - 3*z^2 + z - 2]\n",
       "(2, 6), (6, 1), [7/2*z^5 + z^4 - 3*z^3 + z^2 + 17/2*z - 9/2]\n",
       ")"
      ]
     },
     "execution_count": 221,
     "metadata": {},
     "output_type": "execute_result"
    }
   ],
   "source": [
    "K.<z> = CyclotomicField(7)\n",
    "d = euler_phi(7)\n",
    "D0 = DiscreteGaussianDistributionIntegerSampler(sigma=2)\n",
    "m = 1\n",
    "\n",
    "verbose = True\n",
    "\n",
    "if verbose:\n",
    "    print(\"Generating %d Gaussian samples\" % (m))\n",
    "fs = [ K( [ D0() for _ in range(d) ] ) for _ in range(m) ]\n",
    "x = matrix([ D0() for _ in range(d) ]).transpose()\n",
    "\n",
    "A = random_matrix(K,2,d)\n",
    "A,A.dimensions(),x.dimensions(), A*x"
   ]
  },
  {
   "cell_type": "code",
   "execution_count": 206,
   "id": "658b42c0",
   "metadata": {},
   "outputs": [
    {
     "data": {
      "text/plain": [
       "[1 0]\n",
       "[0 1]"
      ]
     },
     "execution_count": 206,
     "metadata": {},
     "output_type": "execute_result"
    }
   ],
   "source": [
    "I=identity_matrix(K,2,2)\n",
    "identity_matrix(K,2,2).transpose()\n",
    "I*(I.transpose())"
   ]
  },
  {
   "cell_type": "code",
   "execution_count": 71,
   "id": "c9910e0a",
   "metadata": {},
   "outputs": [
    {
     "data": {
      "text/plain": [
       "[-1,\n",
       " 4,\n",
       " -5,\n",
       " 2,\n",
       " 3,\n",
       " 5,\n",
       " 1,\n",
       " -1,\n",
       " 0,\n",
       " 0,\n",
       " 2,\n",
       " -2,\n",
       " 0,\n",
       " 3,\n",
       " 5,\n",
       " 3,\n",
       " -1,\n",
       " 3,\n",
       " 3,\n",
       " -1,\n",
       " -1,\n",
       " 3,\n",
       " 3,\n",
       " -2,\n",
       " 3,\n",
       " 0,\n",
       " 3,\n",
       " -1,\n",
       " -1,\n",
       " 2,\n",
       " 1,\n",
       " 4,\n",
       " 1,\n",
       " 4,\n",
       " -1,\n",
       " 0,\n",
       " 1,\n",
       " 4,\n",
       " 1,\n",
       " 3,\n",
       " 2,\n",
       " 2,\n",
       " 2,\n",
       " 2,\n",
       " 1,\n",
       " 1,\n",
       " 1,\n",
       " 1,\n",
       " 0,\n",
       " 2,\n",
       " -2,\n",
       " 3,\n",
       " 2,\n",
       " 3,\n",
       " -1,\n",
       " 0,\n",
       " 4,\n",
       " 5,\n",
       " 3,\n",
       " 0,\n",
       " 1,\n",
       " -3,\n",
       " 1,\n",
       " 4,\n",
       " -1,\n",
       " 1,\n",
       " 2,\n",
       " -2,\n",
       " 0,\n",
       " 0,\n",
       " -1,\n",
       " 2,\n",
       " 0,\n",
       " 5,\n",
       " 1,\n",
       " 1,\n",
       " -2,\n",
       " 0,\n",
       " 1,\n",
       " 0,\n",
       " 3,\n",
       " 0,\n",
       " 0,\n",
       " -1,\n",
       " 2,\n",
       " 2,\n",
       " -1,\n",
       " -2,\n",
       " 1,\n",
       " 0,\n",
       " 1,\n",
       " -1,\n",
       " -3,\n",
       " 0,\n",
       " -1,\n",
       " 2,\n",
       " -1,\n",
       " -1,\n",
       " -2,\n",
       " 4,\n",
       " -1,\n",
       " 3,\n",
       " -1,\n",
       " 3,\n",
       " 4,\n",
       " 3,\n",
       " 2,\n",
       " -2,\n",
       " 0,\n",
       " 2,\n",
       " 2,\n",
       " 1,\n",
       " 2,\n",
       " 3,\n",
       " 0,\n",
       " 5,\n",
       " 1,\n",
       " -1,\n",
       " 5,\n",
       " 1,\n",
       " 0,\n",
       " 1,\n",
       " 1,\n",
       " 2,\n",
       " -1,\n",
       " 2,\n",
       " 4,\n",
       " -1,\n",
       " 2,\n",
       " 2,\n",
       " 4,\n",
       " 2,\n",
       " -2,\n",
       " 2,\n",
       " 2,\n",
       " -1,\n",
       " 4,\n",
       " 2,\n",
       " -1,\n",
       " 4,\n",
       " 0,\n",
       " 0,\n",
       " 4,\n",
       " 1,\n",
       " 4,\n",
       " -1,\n",
       " 4,\n",
       " 1,\n",
       " 3,\n",
       " 1,\n",
       " 1,\n",
       " 2,\n",
       " 4,\n",
       " -3,\n",
       " 3,\n",
       " -3,\n",
       " 3,\n",
       " 3,\n",
       " -2,\n",
       " 3,\n",
       " -2,\n",
       " 2,\n",
       " 1,\n",
       " 2,\n",
       " 2,\n",
       " 2,\n",
       " 0,\n",
       " 0,\n",
       " 1,\n",
       " -2,\n",
       " 0,\n",
       " -1,\n",
       " 2,\n",
       " 3,\n",
       " 4,\n",
       " 0,\n",
       " 3,\n",
       " -2,\n",
       " -1,\n",
       " 0,\n",
       " 2,\n",
       " 1,\n",
       " -2,\n",
       " -2,\n",
       " 1,\n",
       " 1,\n",
       " 0,\n",
       " 0,\n",
       " 3,\n",
       " 1,\n",
       " 1,\n",
       " 3,\n",
       " -3,\n",
       " -1,\n",
       " 1,\n",
       " 5,\n",
       " 3,\n",
       " 1,\n",
       " 0,\n",
       " 2,\n",
       " 2,\n",
       " 1,\n",
       " 0,\n",
       " 3,\n",
       " 1,\n",
       " -5,\n",
       " 3,\n",
       " 2,\n",
       " -1,\n",
       " 1,\n",
       " 0,\n",
       " 3,\n",
       " 1,\n",
       " 0,\n",
       " 3,\n",
       " 1,\n",
       " -3,\n",
       " 3,\n",
       " 1,\n",
       " 1,\n",
       " 4,\n",
       " 1,\n",
       " -1,\n",
       " 2,\n",
       " 1,\n",
       " 3,\n",
       " -1,\n",
       " 5,\n",
       " -1,\n",
       " -3,\n",
       " 0,\n",
       " 3,\n",
       " -2,\n",
       " 5,\n",
       " 2,\n",
       " -2,\n",
       " -4,\n",
       " 4,\n",
       " -2,\n",
       " 0,\n",
       " 5,\n",
       " 3,\n",
       " -2,\n",
       " 6,\n",
       " 1,\n",
       " 0,\n",
       " 2,\n",
       " -1,\n",
       " 0,\n",
       " -1,\n",
       " 0,\n",
       " 3,\n",
       " 1,\n",
       " -3,\n",
       " 4,\n",
       " 1,\n",
       " 4,\n",
       " 1,\n",
       " -1,\n",
       " -2,\n",
       " 3,\n",
       " -1,\n",
       " 2,\n",
       " -1,\n",
       " 0,\n",
       " 0,\n",
       " -1,\n",
       " 3,\n",
       " 2,\n",
       " 2,\n",
       " -2,\n",
       " -2,\n",
       " 2,\n",
       " 1,\n",
       " 1,\n",
       " 4,\n",
       " -1,\n",
       " 4,\n",
       " -1,\n",
       " 1,\n",
       " 3,\n",
       " 0,\n",
       " 1,\n",
       " 0,\n",
       " 4,\n",
       " 3,\n",
       " 1,\n",
       " 3,\n",
       " -1,\n",
       " 1,\n",
       " 3,\n",
       " 1,\n",
       " 0,\n",
       " 0,\n",
       " -1,\n",
       " 3,\n",
       " 3,\n",
       " 5,\n",
       " 0,\n",
       " 5,\n",
       " -4,\n",
       " 3,\n",
       " 0,\n",
       " 1,\n",
       " 1,\n",
       " -3,\n",
       " 1,\n",
       " -3,\n",
       " 0,\n",
       " 0,\n",
       " 2,\n",
       " -1,\n",
       " 4,\n",
       " 1,\n",
       " 0,\n",
       " 0,\n",
       " 0,\n",
       " 2,\n",
       " -1,\n",
       " 0,\n",
       " 5,\n",
       " -1,\n",
       " 3,\n",
       " 1,\n",
       " 3,\n",
       " -2,\n",
       " 2,\n",
       " 1,\n",
       " 2,\n",
       " 1,\n",
       " 2,\n",
       " -1,\n",
       " 1,\n",
       " 0,\n",
       " 0,\n",
       " 4,\n",
       " 0,\n",
       " -1,\n",
       " 2,\n",
       " 0,\n",
       " -1,\n",
       " 2,\n",
       " 2,\n",
       " -3,\n",
       " -2,\n",
       " 2,\n",
       " -1,\n",
       " 0,\n",
       " 2,\n",
       " 3,\n",
       " 2,\n",
       " 0,\n",
       " 0,\n",
       " -1,\n",
       " 1,\n",
       " 0,\n",
       " 2,\n",
       " 0,\n",
       " 2,\n",
       " 2,\n",
       " 1,\n",
       " 1,\n",
       " 0,\n",
       " 1,\n",
       " 1,\n",
       " 0,\n",
       " 0,\n",
       " 3,\n",
       " 0,\n",
       " -2,\n",
       " 2,\n",
       " -3,\n",
       " 3,\n",
       " 1,\n",
       " -3,\n",
       " 0,\n",
       " 1,\n",
       " 0,\n",
       " 1,\n",
       " 1,\n",
       " 6,\n",
       " 0,\n",
       " 1,\n",
       " 2,\n",
       " 2,\n",
       " 1,\n",
       " -1,\n",
       " 1,\n",
       " 3,\n",
       " 2,\n",
       " 1,\n",
       " 0,\n",
       " 3,\n",
       " 3,\n",
       " 0,\n",
       " 0,\n",
       " 3,\n",
       " -1,\n",
       " 4,\n",
       " 0,\n",
       " 1,\n",
       " 0,\n",
       " 1,\n",
       " -2,\n",
       " -2,\n",
       " 1,\n",
       " 3,\n",
       " -2,\n",
       " 1,\n",
       " 0,\n",
       " 0,\n",
       " 4,\n",
       " 4,\n",
       " 0,\n",
       " 0,\n",
       " 2,\n",
       " 1,\n",
       " -2,\n",
       " 1,\n",
       " 0,\n",
       " 5,\n",
       " -1,\n",
       " -2,\n",
       " 1,\n",
       " 1,\n",
       " -1,\n",
       " 2,\n",
       " 0,\n",
       " 0,\n",
       " 1,\n",
       " 2,\n",
       " 4,\n",
       " 2,\n",
       " 1,\n",
       " -1,\n",
       " -2,\n",
       " 2,\n",
       " -2,\n",
       " 1,\n",
       " 3,\n",
       " 0,\n",
       " 1,\n",
       " 1,\n",
       " 4,\n",
       " 3,\n",
       " -1,\n",
       " -5,\n",
       " -1,\n",
       " 2,\n",
       " 1,\n",
       " 4,\n",
       " 1,\n",
       " -3,\n",
       " 3,\n",
       " -2,\n",
       " 2,\n",
       " 4,\n",
       " 3,\n",
       " 5,\n",
       " 4,\n",
       " 3,\n",
       " 4,\n",
       " -1,\n",
       " -4,\n",
       " -1,\n",
       " -1,\n",
       " 2,\n",
       " -2,\n",
       " -2,\n",
       " -1,\n",
       " 2,\n",
       " 2,\n",
       " 0,\n",
       " 1,\n",
       " 2,\n",
       " 0,\n",
       " 3,\n",
       " 2,\n",
       " 1,\n",
       " 4,\n",
       " 1,\n",
       " -3,\n",
       " 3,\n",
       " -1,\n",
       " 1,\n",
       " 3,\n",
       " -1,\n",
       " 2,\n",
       " 5,\n",
       " 0,\n",
       " -1,\n",
       " 2,\n",
       " -1,\n",
       " 2,\n",
       " -3,\n",
       " 5,\n",
       " 2,\n",
       " 4,\n",
       " -1,\n",
       " 0,\n",
       " -5,\n",
       " 0,\n",
       " 1,\n",
       " -1,\n",
       " 0,\n",
       " -3,\n",
       " 1,\n",
       " 0,\n",
       " 4,\n",
       " 1,\n",
       " -2,\n",
       " -2]"
      ]
     },
     "execution_count": 71,
     "metadata": {},
     "output_type": "execute_result"
    }
   ],
   "source": [
    "D0 = DiscreteGaussianDistributionIntegerSampler(c=1,sigma=2)\n",
    "[ D0() for _ in range(d) ]"
   ]
  },
  {
   "cell_type": "code",
   "execution_count": 68,
   "id": "cec286eb",
   "metadata": {},
   "outputs": [
    {
     "data": {
      "text/plain": [
       "-2"
      ]
     },
     "execution_count": 68,
     "metadata": {},
     "output_type": "execute_result"
    }
   ],
   "source": [
    "fs[0].list()[1]"
   ]
  },
  {
   "cell_type": "code",
   "execution_count": 85,
   "id": "eaf6d55f",
   "metadata": {},
   "outputs": [
    {
     "name": "stdout",
     "output_type": "stream",
     "text": [
      "3 \n",
      "\n"
     ]
    }
   ],
   "source": [
    "x=3\n",
    "print(\"%d \\n\" %x)"
   ]
  },
  {
   "cell_type": "code",
   "execution_count": 233,
   "id": "e713276d",
   "metadata": {},
   "outputs": [
    {
     "data": {
      "text/plain": [
       "[ 1 10]\n",
       "[ 3 -1]"
      ]
     },
     "execution_count": 233,
     "metadata": {},
     "output_type": "execute_result"
    }
   ],
   "source": [
    "A = MatrixSpace(IntegerRing(),2)([1,10,3,-1])\n",
    "A.is_invertible()\n",
    "A"
   ]
  },
  {
   "cell_type": "code",
   "execution_count": 234,
   "id": "085b4eff",
   "metadata": {},
   "outputs": [
    {
     "data": {
      "text/plain": [
       "[ 1/31 10/31]\n",
       "[ 3/31 -1/31]"
      ]
     },
     "execution_count": 234,
     "metadata": {},
     "output_type": "execute_result"
    }
   ],
   "source": [
    "~A"
   ]
  },
  {
   "cell_type": "code",
   "execution_count": 235,
   "id": "c238bd8a",
   "metadata": {},
   "outputs": [
    {
     "ename": "ArithmeticError",
     "evalue": "non-invertible matrix",
     "output_type": "error",
     "traceback": [
      "\u001b[0;31m---------------------------------------------------------------------------\u001b[0m",
      "\u001b[0;31mArithmeticError\u001b[0m                           Traceback (most recent call last)",
      "\u001b[0;32m/var/folders/37/40t8n66d41b6jldvnttx32c40000gn/T/ipykernel_38848/2901502461.py\u001b[0m in \u001b[0;36m<cell line: 1>\u001b[0;34m()\u001b[0m\n\u001b[0;32m----> 1\u001b[0;31m \u001b[0mA\u001b[0m\u001b[0;34m.\u001b[0m\u001b[0minverse_of_unit\u001b[0m\u001b[0;34m(\u001b[0m\u001b[0;34m)\u001b[0m\u001b[0;34m\u001b[0m\u001b[0;34m\u001b[0m\u001b[0m\n\u001b[0m",
      "\u001b[0;32m~/opt/miniconda3/envs/sage/lib/python3.9/site-packages/sage/matrix/matrix_integer_dense.pyx\u001b[0m in \u001b[0;36msage.matrix.matrix_integer_dense.Matrix_integer_dense.inverse_of_unit (build/cythonized/sage/matrix/matrix_integer_dense.cpp:34264)\u001b[0;34m()\u001b[0m\n\u001b[1;32m   4121\u001b[0m         \u001b[0mA\u001b[0m\u001b[0;34m,\u001b[0m \u001b[0md\u001b[0m \u001b[0;34m=\u001b[0m \u001b[0mself\u001b[0m\u001b[0;34m.\u001b[0m\u001b[0m_invert_flint\u001b[0m\u001b[0;34m(\u001b[0m\u001b[0;34m)\u001b[0m\u001b[0;34m\u001b[0m\u001b[0;34m\u001b[0m\u001b[0m\n\u001b[1;32m   4122\u001b[0m         \u001b[0;32mif\u001b[0m \u001b[0;32mnot\u001b[0m \u001b[0md\u001b[0m\u001b[0;34m.\u001b[0m\u001b[0mis_one\u001b[0m\u001b[0;34m(\u001b[0m\u001b[0;34m)\u001b[0m\u001b[0;34m:\u001b[0m\u001b[0;34m\u001b[0m\u001b[0;34m\u001b[0m\u001b[0m\n\u001b[0;32m-> 4123\u001b[0;31m             \u001b[0;32mraise\u001b[0m \u001b[0mArithmeticError\u001b[0m\u001b[0;34m(\u001b[0m\u001b[0;34m\"non-invertible matrix\"\u001b[0m\u001b[0;34m)\u001b[0m\u001b[0;34m\u001b[0m\u001b[0;34m\u001b[0m\u001b[0m\n\u001b[0m\u001b[1;32m   4124\u001b[0m         \u001b[0;32mreturn\u001b[0m \u001b[0mA\u001b[0m\u001b[0;34m\u001b[0m\u001b[0;34m\u001b[0m\u001b[0m\n\u001b[1;32m   4125\u001b[0m \u001b[0;34m\u001b[0m\u001b[0m\n",
      "\u001b[0;31mArithmeticError\u001b[0m: non-invertible matrix"
     ]
    }
   ],
   "source": [
    "A.inverse_of_unit()"
   ]
  },
  {
   "cell_type": "code",
   "execution_count": 236,
   "id": "60cab22a",
   "metadata": {},
   "outputs": [
    {
     "data": {
      "text/plain": [
       "False"
      ]
     },
     "execution_count": 236,
     "metadata": {},
     "output_type": "execute_result"
    }
   ],
   "source": [
    "A.is_invertible()"
   ]
  },
  {
   "cell_type": "code",
   "execution_count": null,
   "id": "bfe3127d",
   "metadata": {},
   "outputs": [],
   "source": []
  },
  {
   "cell_type": "code",
   "execution_count": null,
   "id": "b06138db",
   "metadata": {},
   "outputs": [],
   "source": []
  },
  {
   "cell_type": "code",
   "execution_count": null,
   "id": "c2245740",
   "metadata": {},
   "outputs": [],
   "source": []
  },
  {
   "cell_type": "code",
   "execution_count": null,
   "id": "d520d892",
   "metadata": {},
   "outputs": [],
   "source": []
  },
  {
   "cell_type": "code",
   "execution_count": null,
   "id": "8b344215",
   "metadata": {},
   "outputs": [],
   "source": []
  },
  {
   "cell_type": "code",
   "execution_count": null,
   "id": "9428fb41",
   "metadata": {},
   "outputs": [],
   "source": []
  },
  {
   "cell_type": "code",
   "execution_count": null,
   "id": "1892213c",
   "metadata": {},
   "outputs": [],
   "source": []
  },
  {
   "cell_type": "code",
   "execution_count": null,
   "id": "e72f616f",
   "metadata": {},
   "outputs": [],
   "source": []
  },
  {
   "cell_type": "code",
   "execution_count": null,
   "id": "3a9b13bf",
   "metadata": {},
   "outputs": [],
   "source": []
  },
  {
   "cell_type": "code",
   "execution_count": 238,
   "id": "5c9185ae",
   "metadata": {},
   "outputs": [
    {
     "data": {
      "text/plain": [
       "<class 'sage.rings.integer.Integer'>"
      ]
     },
     "execution_count": 238,
     "metadata": {},
     "output_type": "execute_result"
    }
   ],
   "source": [
    "type(round(0.64))"
   ]
  },
  {
   "cell_type": "code",
   "execution_count": 254,
   "id": "385036e8",
   "metadata": {},
   "outputs": [],
   "source": [
    "K.<z> = CyclotomicField(7)\n",
    "def round_p(f, p):\n",
    "    coeffs = f.list()\n",
    "    return K( [round(coeff*p)/p for coeff in coeffs])"
   ]
  },
  {
   "cell_type": "code",
   "execution_count": 259,
   "id": "413985fb",
   "metadata": {},
   "outputs": [
    {
     "data": {
      "text/plain": [
       "[-6, 1/2, 1/2, 1/2, 1/3, 8]"
      ]
     },
     "execution_count": 259,
     "metadata": {},
     "output_type": "execute_result"
    }
   ],
   "source": [
    "f = K.random_element()\n",
    "f.list()"
   ]
  },
  {
   "cell_type": "code",
   "execution_count": 262,
   "id": "a7cc9a98",
   "metadata": {},
   "outputs": [
    {
     "data": {
      "text/plain": [
       "[-6, 5/9, 5/9, 5/9, 1/3, 8]"
      ]
     },
     "execution_count": 262,
     "metadata": {},
     "output_type": "execute_result"
    }
   ],
   "source": [
    "round_p(f, p=9).list()"
   ]
  },
  {
   "cell_type": "code",
   "execution_count": null,
   "id": "604a18c3",
   "metadata": {},
   "outputs": [],
   "source": []
  }
 ],
 "metadata": {
  "kernelspec": {
   "display_name": "SageMath 9.5",
   "language": "sage",
   "name": "sagemath"
  },
  "language_info": {
   "codemirror_mode": {
    "name": "ipython",
    "version": 3
   },
   "file_extension": ".py",
   "mimetype": "text/x-python",
   "name": "python",
   "nbconvert_exporter": "python",
   "pygments_lexer": "ipython3",
   "version": "3.9.12"
  }
 },
 "nbformat": 4,
 "nbformat_minor": 5
}
